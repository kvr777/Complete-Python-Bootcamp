{
 "cells": [
  {
   "cell_type": "markdown",
   "metadata": {},
   "source": [
    "#Milestone Project 2 - Blackjack Game\n",
    "In this milestone project you will be creating a Complete BlackJack Card Game in Python.\n",
    "\n",
    "Here are the requirements:\n",
    "\n",
    "* You need to create a simple text-based [BlackJack](https://en.wikipedia.org/wiki/Blackjack) game\n",
    "* The game needs to have one player versus an automated dealer.\n",
    "* The player can stand or hit.\n",
    "* The player must be able to pick their betting amount.\n",
    "* You need to keep track of the players total money.\n",
    "* You need to alert the player of wins, losses, or busts, etc...\n",
    "\n",
    "And most importantly:\n",
    "\n",
    "* **You must use OOP and classes in some portion of your game. You can not just use functions in your game. Use classes to help you define the Deck and the Player's hand. There are many right ways to do this, so explore it well!**\n",
    "\n",
    "\n",
    "Feel free to expand this game-try including multiple players. Try adding in Double-Down and card splits! Remember to you are free to use any resources you want and as always:\n",
    "\n",
    "# HAVE FUN!"
   ]
  },
  {
   "cell_type": "code",
   "execution_count": 35,
   "metadata": {
    "collapsed": true
   },
   "outputs": [],
   "source": [
    "import random\n",
    "from IPython.display import clear_output"
   ]
  },
  {
   "cell_type": "code",
   "execution_count": 58,
   "metadata": {
    "collapsed": false
   },
   "outputs": [],
   "source": [
    "class Player(object):\n",
    "        \n",
    "    def __init__(self, name, bankroll=100):\n",
    "        self.bankroll = bankroll\n",
    "        self.name = name\n",
    "#     def __new__(self):\n",
    "#         print('new player{} with bankroll {} has created'.format(self.name, self.bankroll))\n",
    "    \n",
    "#     def __del__(self):\n",
    "#         print('player {} has been deleted'.format(self.name))\n",
    "    \n",
    "    def __str__(self):\n",
    "        return \n",
    "        \n",
    "    def add_bankroll(self, amount):\n",
    "        self.bankroll +=amount\n",
    "    \n",
    "    def reduce_bankroll(self, amount):\n",
    "        self.bankroll -=amount\n",
    "    \n",
    "    def make_player(name, bankroll):\n",
    "        player = Student(name, bankroll)\n",
    "        return player"
   ]
  },
  {
   "cell_type": "code",
   "execution_count": 107,
   "metadata": {
    "collapsed": false
   },
   "outputs": [],
   "source": [
    "def begin_game():\n",
    "    add_players = True\n",
    "    while add_players:\n",
    "        clear_output()\n",
    "        player_name = input('Please insert name of new player ')\n",
    "        if len(player_name)<1:\n",
    "            print('You dont insert any name, please try again')\n",
    "            continue\n",
    "        bankroll_not_defined = True\n",
    "        while bankroll_not_defined:\n",
    "            player_bankroll = input('Please add bankroll, if no, default bankroll = 100 will be added ')\n",
    "            if len(player_bankroll) == 0:\n",
    "                player_bankroll = 100\n",
    "                bankroll_not_defined = False\n",
    "            else:\n",
    "                try:\n",
    "                    player_bankroll = int(player_bankroll)\n",
    "                except:\n",
    "                    print('Your input is not number, please try again')\n",
    "                    continue\n",
    "                bankroll_not_defined = False\n",
    "        \n",
    "        globals()[player_name] = Player(str(player_name), player_bankroll)\n",
    "        print('new player {} with bankroll {} has created'.format(player_name, player_bankroll))\n",
    "        add_player_answ =''\n",
    "        while not (add_player_answ =='Y' or add_player_answ =='N'):\n",
    "            add_player_answ = input('Do you want add additional player? Please input y or n').upper()\n",
    "        if add_player_answ =='N':\n",
    "            break"
   ]
  },
  {
   "cell_type": "code",
   "execution_count": 108,
   "metadata": {
    "collapsed": false
   },
   "outputs": [
    {
     "name": "stdout",
     "output_type": "stream",
     "text": [
      "Please insert name of new player Kirill\n",
      "Please add bankroll, if no, default bankroll = 100 will be added 777\n",
      "new player Kirill with bankroll 777 has created\n",
      "Do you want add additional player? Please input y or nn\n"
     ]
    }
   ],
   "source": [
    "begin_game()"
   ]
  },
  {
   "cell_type": "code",
   "execution_count": 110,
   "metadata": {
    "collapsed": false
   },
   "outputs": [
    {
     "data": {
      "text/plain": [
       "777"
      ]
     },
     "execution_count": 110,
     "metadata": {},
     "output_type": "execute_result"
    }
   ],
   "source": [
    "Kirill.bankroll"
   ]
  },
  {
   "cell_type": "code",
   "execution_count": 22,
   "metadata": {
    "collapsed": false
   },
   "outputs": [
    {
     "name": "stdout",
     "output_type": "stream",
     "text": [
      "player bob has been deleted\n"
     ]
    }
   ],
   "source": [
    "bob = Player(name='bob')\n",
    "Dealer = Player(name='Dealer')"
   ]
  },
  {
   "cell_type": "code",
   "execution_count": 6,
   "metadata": {
    "collapsed": false
   },
   "outputs": [],
   "source": [
    "Dealer = Dealer()"
   ]
  },
  {
   "cell_type": "code",
   "execution_count": 7,
   "metadata": {
    "collapsed": false
   },
   "outputs": [
    {
     "data": {
      "text/plain": [
       "__main__.Dealer"
      ]
     },
     "execution_count": 7,
     "metadata": {},
     "output_type": "execute_result"
    }
   ],
   "source": [
    "type(Dealer)"
   ]
  },
  {
   "cell_type": "code",
   "execution_count": 5,
   "metadata": {
    "collapsed": true
   },
   "outputs": [],
   "source": [
    "class Dealer(Player):\n",
    "    pass"
   ]
  },
  {
   "cell_type": "code",
   "execution_count": 1,
   "metadata": {
    "collapsed": false
   },
   "outputs": [
    {
     "ename": "NameError",
     "evalue": "name 'Player' is not defined",
     "output_type": "error",
     "traceback": [
      "\u001b[0;31m---------------------------------------------------------------------------\u001b[0m",
      "\u001b[0;31mNameError\u001b[0m                                 Traceback (most recent call last)",
      "\u001b[0;32m<ipython-input-1-afefbc64f19b>\u001b[0m in \u001b[0;36m<module>\u001b[0;34m()\u001b[0m\n\u001b[0;32m----> 1\u001b[0;31m \u001b[0mbob\u001b[0m \u001b[1;33m=\u001b[0m \u001b[0mPlayer\u001b[0m\u001b[1;33m(\u001b[0m\u001b[1;33m)\u001b[0m\u001b[1;33m\u001b[0m\u001b[0m\n\u001b[0m",
      "\u001b[0;31mNameError\u001b[0m: name 'Player' is not defined"
     ]
    }
   ],
   "source": [
    "bob = Player()"
   ]
  },
  {
   "cell_type": "code",
   "execution_count": null,
   "metadata": {
    "collapsed": true
   },
   "outputs": [],
   "source": [
    "class Bet(object):\n",
    "    \n",
    "    \n",
    "    def __init__(self):"
   ]
  },
  {
   "cell_type": "code",
   "execution_count": null,
   "metadata": {
    "collapsed": true
   },
   "outputs": [],
   "source": []
  },
  {
   "cell_type": "code",
   "execution_count": null,
   "metadata": {
    "collapsed": true
   },
   "outputs": [],
   "source": [
    "class Move(object):\n",
    "    \n",
    "    \n",
    "    def __init__(self):"
   ]
  },
  {
   "cell_type": "code",
   "execution_count": null,
   "metadata": {
    "collapsed": true
   },
   "outputs": [],
   "source": [
    "class Deck(object):\n",
    "    "
   ]
  },
  {
   "cell_type": "code",
   "execution_count": null,
   "metadata": {
    "collapsed": true
   },
   "outputs": [],
   "source": []
  }
 ],
 "metadata": {
  "kernelspec": {
   "display_name": "Python [aind]",
   "language": "python",
   "name": "Python [aind]"
  },
  "language_info": {
   "codemirror_mode": {
    "name": "ipython",
    "version": 3
   },
   "file_extension": ".py",
   "mimetype": "text/x-python",
   "name": "python",
   "nbconvert_exporter": "python",
   "pygments_lexer": "ipython3",
   "version": "3.6.0"
  }
 },
 "nbformat": 4,
 "nbformat_minor": 0
}
